{
 "cells": [
  {
   "cell_type": "markdown",
   "metadata": {},
   "source": [
    "# Using Transformers on the 20 newsgroup dataset"
   ]
  },
  {
   "cell_type": "code",
   "execution_count": 1,
   "metadata": {},
   "outputs": [],
   "source": [
    "from sklearn.datasets import fetch_20newsgroups\n",
    "from transformers import AutoModel, AutoTokenizer"
   ]
  },
  {
   "cell_type": "code",
   "execution_count": 2,
   "metadata": {},
   "outputs": [],
   "source": [
    "REMOVE = ('headers', 'footers', 'quotes')\n",
    "news_train = fetch_20newsgroups(subset='train', remove=REMOVE)\n",
    "news_test = fetch_20newsgroups(subset='test', remove=REMOVE)"
   ]
  },
  {
   "cell_type": "markdown",
   "metadata": {},
   "source": [
    "The text in these datasets is complex in that it contains multiple paragraphs, where each paragraph can contain multiple sentences."
   ]
  },
  {
   "cell_type": "code",
   "execution_count": 3,
   "metadata": {},
   "outputs": [
    {
     "name": "stdout",
     "output_type": "stream",
     "text": [
      "\n",
      "I certainly do use it whenever I have to do TIFF, and it usually works\n",
      "very well.  That's not my point.  I'm >philosophically< opposed to it\n",
      "because of its complexity.\n",
      "\n",
      "This complexity has led to some programs' poor TIFF writers making\n",
      "some very bizarre files, other programs' inability to load TIFF\n",
      "images (though they'll save them, of course), and a general\n",
      "inability to interchange images between different environments\n",
      "despite the fact they all think they understand TIFF.\n",
      "\n",
      "As the saying goes, \"It's not me I'm worried about- it's all the\n",
      "abuse of TIFF over the years, and I chalk it all up to the immense (and\n",
      "unnecessary) complexity of the format.\n",
      "\n",
      "In the words of the TIFF 5.0 spec, Appendix G, page G-1 (capitalized\n",
      "emphasis mine):\n",
      "\n",
      "\"The only problem with this sort of success is that TIFF was designed\n",
      "to be powerful and flexible, at the expense of simplicity.  It takes a\n",
      "fair amount of effort to handle all the options currently defined in\n",
      "this specification (PROBABLY NO APPLICATION DOES A COMPLETE JOB),\n",
      "and that is currently the only way you can be >sure< that you will be\n",
      "able to import any TIFF image, since there are so many\n",
      "image-generating applications out there now.\"\n",
      "\n",
      "\n",
      "If a program (or worse all applications) can't read >every< TIFF\n",
      "image, that means there are some it won't- some that I might have to\n",
      "deal with.  Why would I want my images to be trapped in that format?  I\n",
      "don't and neither should anyone who agrees with my reasoning- not\n",
      "that anyone does, of course! :-)\n"
     ]
    }
   ],
   "source": [
    "print(news_train.data[16])"
   ]
  },
  {
   "cell_type": "markdown",
   "metadata": {},
   "source": [
    "**TODO**, create a benchmark. \n",
    "\n",
    "What would be a reasonable benchmark? TfIdf + Naive Bayes?\n",
    "\n",
    "We want to do two things:\n",
    "\n",
    "1. Cluster these texts.\n",
    "2. Build a classifier using BERT.\n",
    "\n",
    "We start by extracting the texts and the classes from the data bunches."
   ]
  },
  {
   "cell_type": "code",
   "execution_count": 4,
   "metadata": {},
   "outputs": [],
   "source": [
    "train_txt, test_txt = news_train.data, news_test.data\n",
    "train_cls, test_cls = news_train.target, news_test.target"
   ]
  },
  {
   "cell_type": "markdown",
   "metadata": {},
   "source": [
    "## Without splitting by sentence\n",
    "\n",
    "Below, we just consider the text in its entirety, and we don't care about the individual sentences."
   ]
  },
  {
   "cell_type": "code",
   "execution_count": 5,
   "metadata": {},
   "outputs": [],
   "source": [
    "tokenizer = AutoTokenizer.from_pretrained('bert-base-uncased')"
   ]
  },
  {
   "cell_type": "code",
   "execution_count": 6,
   "metadata": {},
   "outputs": [],
   "source": [
    "def encode_strings(texts):\n",
    "    dicts = []\n",
    "    for txt in texts:\n",
    "        dicts.append(\n",
    "            tokenizer.encode_plus(txt, \n",
    "                                 add_special_tokens=True,\n",
    "                                 max_length=128,\n",
    "                                 pad_to_max_length=True,\n",
    "                                 return_token_type_ids=False,\n",
    "                                 return_attention_mask=True))\n",
    "    return dicts"
   ]
  },
  {
   "cell_type": "code",
   "execution_count": 7,
   "metadata": {},
   "outputs": [
    {
     "name": "stdout",
     "output_type": "stream",
     "text": [
      "CPU times: user 1min 54s, sys: 79.7 ms, total: 1min 54s\n",
      "Wall time: 1min 54s\n"
     ]
    }
   ],
   "source": [
    "%%time\n",
    "train_dicts = encode_strings(train_txt)"
   ]
  },
  {
   "cell_type": "code",
   "execution_count": 8,
   "metadata": {
    "scrolled": true
   },
   "outputs": [],
   "source": [
    "train_input_ids = [d['input_ids'] for d in train_dicts]\n",
    "train_attn_masks = [d['attention_mask'] for d in train_dicts]"
   ]
  },
  {
   "cell_type": "code",
   "execution_count": 9,
   "metadata": {},
   "outputs": [
    {
     "name": "stdout",
     "output_type": "stream",
     "text": [
      "CPU times: user 1min 1s, sys: 36 ms, total: 1min 1s\n",
      "Wall time: 1min 1s\n"
     ]
    }
   ],
   "source": [
    "%%time\n",
    "test_dicts = encode_strings(test_txt)"
   ]
  },
  {
   "cell_type": "code",
   "execution_count": 10,
   "metadata": {},
   "outputs": [],
   "source": [
    "test_input_ids = [d['input_ids'] for d in test_dicts]\n",
    "test_attn_masks = [d['attention_mask'] for d in test_dicts]"
   ]
  },
  {
   "cell_type": "code",
   "execution_count": 11,
   "metadata": {},
   "outputs": [],
   "source": [
    "from sklearn.model_selection import train_test_split\n",
    "train_x, val_x, train_m, val_m, train_y, val_y = train_test_split(\n",
    "    train_input_ids, \n",
    "    train_attn_masks, \n",
    "    train_cls, \n",
    "    test_size=0.2,\n",
    "    shuffle=False)"
   ]
  },
  {
   "cell_type": "code",
   "execution_count": 12,
   "metadata": {},
   "outputs": [],
   "source": [
    "import torch\n",
    "\n",
    "train_x, train_m, train_y = (torch.tensor(train_x), torch.tensor(train_m), \n",
    "                             torch.tensor(train_y))\n",
    "val_x, val_m, val_y = (torch.tensor(val_x), torch.tensor(val_m),\n",
    "                       torch.tensor(val_y))"
   ]
  },
  {
   "cell_type": "markdown",
   "metadata": {},
   "source": [
    "## Clustering\n",
    "\n",
    "In [this example](https://huggingface.co/transformers/quickstart.html) they use also the segments IDs. **TODO** try them."
   ]
  },
  {
   "cell_type": "code",
   "execution_count": 13,
   "metadata": {},
   "outputs": [],
   "source": [
    "model = AutoModel.from_pretrained('bert-base-uncased')"
   ]
  },
  {
   "cell_type": "code",
   "execution_count": 14,
   "metadata": {},
   "outputs": [],
   "source": [
    "model.eval()\n",
    "inputs = train_x[0].unsqueeze(dim=0).to('cuda')\n",
    "masks = train_m[0].unsqueeze(dim=0).to('cuda')\n",
    "model.to('cuda')\n",
    "with torch.no_grad():\n",
    "    outputs = model(inputs, attention_mask=masks)"
   ]
  },
  {
   "cell_type": "code",
   "execution_count": 15,
   "metadata": {},
   "outputs": [
    {
     "name": "stdout",
     "output_type": "stream",
     "text": [
      "torch.Size([1, 128, 768])\n"
     ]
    },
    {
     "data": {
      "text/plain": [
       "tensor([[-0.0668, -0.0782,  0.1245,  ..., -0.2077,  0.1575,  0.5708],\n",
       "        [ 0.0073, -0.2461,  0.3578,  ...,  0.1776,  1.1425,  0.4231],\n",
       "        [-0.3067,  0.3139,  0.2439,  ...,  0.5980, -0.2281,  0.4061],\n",
       "        ...,\n",
       "        [ 0.3048, -0.1508,  0.5161,  ...,  0.2338, -0.3044, -0.2507],\n",
       "        [ 0.3263, -0.0415,  0.5331,  ...,  0.2175, -0.1918, -0.2351],\n",
       "        [ 0.2452, -0.2577,  0.5242,  ...,  0.2065, -0.2932, -0.3365]],\n",
       "       device='cuda:0')"
      ]
     },
     "execution_count": 15,
     "metadata": {},
     "output_type": "execute_result"
    }
   ],
   "source": [
    "print(outputs[0].shape)\n",
    "outputs[0][0]"
   ]
  },
  {
   "cell_type": "markdown",
   "metadata": {},
   "source": [
    "The documentation (see the `outputs` section of the [BERT documentation](https://huggingface.co/transformers/model_doc/bert.html)) recommends to average the hidden states across the sequence length of each input."
   ]
  },
  {
   "cell_type": "code",
   "execution_count": 16,
   "metadata": {},
   "outputs": [
    {
     "data": {
      "text/plain": [
       "torch.Size([1, 768])"
      ]
     },
     "execution_count": 16,
     "metadata": {},
     "output_type": "execute_result"
    }
   ],
   "source": [
    "outputs[0].mean(axis=1).shape"
   ]
  },
  {
   "cell_type": "markdown",
   "metadata": {},
   "source": [
    "We cannot pass the whole dataset to the model, as it takes too much memory. We need a dataloader."
   ]
  },
  {
   "cell_type": "code",
   "execution_count": 17,
   "metadata": {},
   "outputs": [],
   "source": [
    "from torch.utils.data import TensorDataset, DataLoader, SequentialSampler\n",
    "\n",
    "train_data = TensorDataset(train_x, train_m)\n",
    "train_sampler = SequentialSampler(train_data)\n",
    "train_loader = DataLoader(train_data, sampler=train_sampler, batch_size=32)"
   ]
  },
  {
   "cell_type": "code",
   "execution_count": 18,
   "metadata": {},
   "outputs": [],
   "source": [
    "model.eval()\n",
    "\n",
    "results = []\n",
    "\n",
    "for batch in train_loader:\n",
    "    batch = tuple(t.to('cuda') for t in batch)\n",
    "    x, m = batch\n",
    "    with torch.no_grad():\n",
    "        outputs = model(x, attention_mask=m)\n",
    "        results.append(outputs[0].mean(axis=1).detach().cpu())"
   ]
  },
  {
   "cell_type": "code",
   "execution_count": 19,
   "metadata": {},
   "outputs": [],
   "source": [
    "import numpy as np\n",
    "\n",
    "tmp = np.concatenate(results, axis=0)"
   ]
  },
  {
   "cell_type": "code",
   "execution_count": 20,
   "metadata": {},
   "outputs": [
    {
     "data": {
      "text/plain": [
       "(9051, 768)"
      ]
     },
     "execution_count": 20,
     "metadata": {},
     "output_type": "execute_result"
    }
   ],
   "source": [
    "tmp.shape"
   ]
  },
  {
   "cell_type": "markdown",
   "metadata": {},
   "source": [
    "## T-SNE"
   ]
  },
  {
   "cell_type": "code",
   "execution_count": 21,
   "metadata": {},
   "outputs": [],
   "source": [
    "from sklearn.manifold import TSNE\n",
    "\n",
    "z = TSNE(n_components=2).fit_transform(tmp)"
   ]
  },
  {
   "cell_type": "code",
   "execution_count": 25,
   "metadata": {},
   "outputs": [
    {
     "data": {
      "image/png": "[encoded data removed]",
      "text/plain": [
       "<Figure size 432x288 with 1 Axes>"
      ]
     },
     "metadata": {
      "needs_background": "light"
     },
     "output_type": "display_data"
    }
   ],
   "source": [
    "from matplotlib import pyplot as plt\n",
    "\n",
    "plt.plot(z[:, 0], z[:, 1], '.')\n",
    "plt.show()"
   ]
  },
  {
   "cell_type": "code",
   "execution_count": 38,
   "metadata": {},
   "outputs": [],
   "source": [
    "np.savetxt('../data/embeddings.tsv', tmp, delimiter='\\t')"
   ]
  },
  {
   "cell_type": "code",
   "execution_count": 81,
   "metadata": {},
   "outputs": [],
   "source": [
    "import pandas as pd\n",
    "\n",
    "txts = train_txt[slice(len(train_y))]\n",
    "classes = train_cls[slice(len(train_y))]\n",
    "assert(len(classes) == tmp.shape[0])"
   ]
  },
  {
   "cell_type": "code",
   "execution_count": 91,
   "metadata": {},
   "outputs": [],
   "source": [
    "import re\n",
    "\n",
    "stripped_texts = [re.sub('\\s', '_', txt[:500]) for txt in txts]"
   ]
  },
  {
   "cell_type": "code",
   "execution_count": 96,
   "metadata": {},
   "outputs": [],
   "source": [
    "annotations = pd.DataFrame({'text': stripped_texts, 'class': classes})"
   ]
  },
  {
   "cell_type": "code",
   "execution_count": 97,
   "metadata": {},
   "outputs": [],
   "source": [
    "annotations.to_csv('../data/annotations.tsv', sep='\\t')"
   ]
  },
  {
   "cell_type": "code",
   "execution_count": 94,
   "metadata": {},
   "outputs": [
    {
     "data": {
      "text/plain": [
       "((9051, 768), (9051, 2))"
      ]
     },
     "execution_count": 94,
     "metadata": {},
     "output_type": "execute_result"
    }
   ],
   "source": [
    "tmp.shape, annotations.shape"
   ]
  },
  {
   "cell_type": "markdown",
   "metadata": {},
   "source": [
    "These two files can then be fed into the \"embedding projector\"."
   ]
  },
  {
   "cell_type": "code",
   "execution_count": 95,
   "metadata": {},
   "outputs": [
    {
     "data": {
      "text/plain": [
       "['I_was_wondering_if_anyone_out_there_could_enlighten_me_on_this_car_I_saw_the_other_day._It_was_a_2-door_sports_car,_looked_to_be_from_the_late_60s/_early_70s._It_was_called_a_Bricklin._The_doors_were_really_small._In_addition,_the_front_bumper_was_separate_from_the_rest_of_the_body._This_is__all_I_know._If_anyone_can_tellme_a_model_name,_engine_specs,_years_of_production,_where_this_car_is_made,_history,_or_whatever_info_you_have_on_this_funky_looking_car,_please_e-mail.',\n",
       " 'A_fair_number_of_brave_souls_who_upgraded_their_SI_clock_oscillator_have_shared_their_experiences_for_this_poll._Please_send_a_brief_message_detailing_your_experiences_with_the_procedure._Top_speed_attained,_CPU_rated_speed,_add_on_cards_and_adapters,_heat_sinks,_hour_of_usage_per_day,_floppy_disk_functionality_with_800_and_1.4_m_floppies_are_especially_requested.__I_will_be_summarizing_in_the_next_two_days,_so_please_add_to_the_network_knowledge_base_if_you_have_done_the_clock_upgrade_and_haven',\n",
       " 'well_folks,_my_mac_plus_finally_gave_up_the_ghost_this_weekend_after_starting_life_as_a_512k_way_back_in_1985.__sooo,_i\\'m_in_the_market_for_a_new_machine_a_bit_sooner_than_i_intended_to_be...__i\\'m_looking_into_picking_up_a_powerbook_160_or_maybe_180_and_have_a_bunch_of_questions_that_(hopefully)_somebody_can_answer:__*_does_anybody_know_any_dirt_on_when_the_next_round_of_powerbook_introductions_are_expected?__i\\'d_heard_the_185c_was_supposed_to_make_an_appearence_\"this_summer\"_but_haven\\'t_heard_a',\n",
       " \"_Do_you_have_Weitek's_address/phone_number?__I'd_like_to_get_some_information_about_this_chip._\",\n",
       " \"From_article_<C5owCB.n3p@world.std.com>,_by_tombaker@world.std.com_(Tom_A_Baker):___My_understanding_is_that_the_'expected_errors'_are_basically_known_bugs_in_the_warning_system_software_-_things_are_checked_that_don't_have_the_right_values_in_yet_because_they_aren't_set_till_after_launch,_and_suchlike._Rather_than_fix_the_code_and_possibly_introduce_new_bugs,_they_just_tell_the_crew_'ok,_if_you_see_a_warning_no._213_before_liftoff,_ignore_it'.\"]"
      ]
     },
     "execution_count": 95,
     "metadata": {},
     "output_type": "execute_result"
    }
   ],
   "source": [
    "stripped_texts[:5]"
   ]
  },
  {
   "cell_type": "markdown",
   "metadata": {},
   "source": [
    "## Classification\n",
    "\n",
    "We already have the dataset, we just need to modify our data loader and add an optimizer and a learning rate strategy."
   ]
  }
 ],
 "metadata": {
  "kernelspec": {
   "display_name": "Python 3",
   "language": "python",
   "name": "python3"
  },
  "language_info": {
   "codemirror_mode": {
    "name": "ipython",
    "version": 3
   },
   "file_extension": ".py",
   "mimetype": "text/x-python",
   "name": "python",
   "nbconvert_exporter": "python",
   "pygments_lexer": "ipython3",
   "version": "3.7.6"
  }
 },
 "nbformat": 4,
 "nbformat_minor": 2
}
